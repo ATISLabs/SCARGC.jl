{
 "cells": [
  {
   "cell_type": "markdown",
   "metadata": {},
   "source": [
    "This notebook is to show some examples you can do with SCARGC.jl package.\n",
    "\n",
    "This package has, until now, two exported functions:\n",
    "- `extractValuesFromFile` that, how the name suggests, extracts all values from a dataset file\n",
    "- `scargc_1NN` that represents the Nearest Neighbor SCARGC implementation\n",
    "\n",
    "To use the package, first you have to add it to your environment. <br>\n",
    "You can do that in two ways:\n",
    "\n",
    "1. Using `Pkg`:"
   ]
  },
  {
   "cell_type": "code",
   "execution_count": null,
   "metadata": {},
   "outputs": [],
   "source": [
    "using Pkg\n",
    "\n",
    "Pkg.add(\"SCARGC\")"
   ]
  },
  {
   "cell_type": "markdown",
   "metadata": {},
   "source": [
    "2. Using the julia REPL:"
   ]
  },
  {
   "cell_type": "markdown",
   "metadata": {},
   "source": [
    "`(@v1.4) pkg> add SCARGC`"
   ]
  },
  {
   "cell_type": "markdown",
   "metadata": {},
   "source": [
    "After adding the package to your environment, you can already use the exported functions in your development.\n",
    "\n",
    "To do that, you need to use the package in your development using the `using` keyword."
   ]
  },
  {
   "cell_type": "code",
   "execution_count": null,
   "metadata": {},
   "outputs": [],
   "source": [
    "using SCARGC"
   ]
  },
  {
   "cell_type": "markdown",
   "metadata": {},
   "source": [
    "After that, you can use the exported functions in your code. \n",
    "\n",
    "For example, lets use `scargc_1NN` to predict the labels on 1CDT dataset.\n",
    "\n",
    "First, we need to extract the values in the dataset file to a matrix using the `extractValuesFromFile()` function.\n",
    "\n",
    "This function has three parameters:\n",
    "1. the path to the file\n",
    "2. the amount of rows that the dataset has\n",
    "3. the amount of columns that the dataset has"
   ]
  },
  {
   "cell_type": "code",
   "execution_count": null,
   "metadata": {},
   "outputs": [],
   "source": [
    "data = extractValuesFromFile(\"../src/datasets/synthetic/1CDT.txt\", 16000, 3)"
   ]
  },
  {
   "cell_type": "markdown",
   "metadata": {},
   "source": [
    "After extracting the values from the file, we can call `scargc_1NN` function to get the predicted labels.\n",
    "\n",
    "To do that, we just call the function, that has 4 parameters:\n",
    "1. the dataset\n",
    "2. the percent value that represents the amount of labeled data\n",
    "3. the pool maximum size\n",
    "4. the value of K, to make the clusretings along the code\n",
    "\n",
    "Besides that, the returns 2 variables:\n",
    "1. the predicted labels\n",
    "2. the method accuracy"
   ]
  },
  {
   "cell_type": "code",
   "execution_count": null,
   "metadata": {},
   "outputs": [],
   "source": [
    "predictedLabels, _ = scargc_1NN(data, 5.0, 300, 2)"
   ]
  },
  {
   "cell_type": "markdown",
   "metadata": {},
   "source": [
    "The function is going to be executed and, in the end, we can get the labeled data. \n",
    "\n",
    "If you're using a dataset that already has the labels, the function also returns the accuracy. That means that it compares the predicted labels with the actual labels and return a percentage of accuracy that the function had."
   ]
  },
  {
   "cell_type": "code",
   "execution_count": null,
   "metadata": {},
   "outputs": [],
   "source": [
    "predictedLabels, accuracy = scargc_1NN(data, 5.0, 300, 2)"
   ]
  },
  {
   "cell_type": "markdown",
   "metadata": {},
   "source": [
    "Then, if you want, you can print those values to check how the algorithm worked."
   ]
  },
  {
   "cell_type": "code",
   "execution_count": null,
   "metadata": {},
   "outputs": [],
   "source": [
    "println(\"Predicted labels: \", predictedLabels)\n",
    "println(\"Accuracy: \", accuracy, \"%\")"
   ]
  }
 ],
 "metadata": {
  "kernelspec": {
   "display_name": "Julia 1.4.1",
   "language": "julia",
   "name": "julia-1.4"
  },
  "language_info": {
   "file_extension": ".jl",
   "mimetype": "application/julia",
   "name": "julia",
   "version": "1.4.1"
  }
 },
 "nbformat": 4,
 "nbformat_minor": 2
}
